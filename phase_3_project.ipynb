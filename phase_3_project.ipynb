{
 "cells": [
  {
   "cell_type": "markdown",
   "metadata": {},
   "source": [
    "# Step 1 - Load Libraries"
   ]
  },
  {
   "cell_type": "code",
   "execution_count": 1,
   "metadata": {},
   "outputs": [],
   "source": [
    "# Import libraries\n",
    "import numpy as np\n",
    "import pandas as pd\n",
    "import matplotlib.pyplot as plt\n",
    "%matplotlib inline\n",
    "import sklearn\n",
    "import seaborn as sns\n",
    "import warnings\n",
    "warnings.filterwarnings('ignore')\n",
    "pd.options.display.float_format = '{:.2f}'.format\n",
    "from sklearn.model_selection import train_test_split\n",
    "from sklearn.preprocessing import StandardScaler\n",
    "from sklearn.pipeline import Pipeline\n",
    "from sklearn.pipeline import make_pipeline\n",
    "from sklearn.linear_model import LogisticRegression\n",
    "from sklearn.ensemble import RandomForestClassifier\n",
    "from xgboost import XGBClassifier\n",
    "from sklearn.decomposition import PCA\n",
    "from sklearn import tree\n",
    "from sklearn.tree import DecisionTreeClassifier\n",
    "from sklearn.model_selection import GridSearchCV\n",
    "from sklearn.preprocessing import OneHotEncoder\n",
    "from sklearn.compose import ColumnTransformer\n",
    "from sklearn.impute import SimpleImputer\n",
    "from sklearn.metrics import plot_confusion_matrix, plot_roc_curve, classification_report, f1_score"
   ]
  },
  {
   "cell_type": "markdown",
   "metadata": {},
   "source": [
    "# Step 2 - Read in the Data"
   ]
  },
  {
   "cell_type": "code",
   "execution_count": 2,
   "metadata": {
    "scrolled": true
   },
   "outputs": [],
   "source": [
    "# Read dataset into notebook\n",
    "df = pd.read_csv('Data/CandidateSummaryAction1.csv')"
   ]
  },
  {
   "cell_type": "code",
   "execution_count": 3,
   "metadata": {
    "scrolled": true
   },
   "outputs": [
    {
     "name": "stdout",
     "output_type": "stream",
     "text": [
      "<class 'pandas.core.frame.DataFrame'>\n",
      "RangeIndex: 1814 entries, 0 to 1813\n",
      "Data columns (total 51 columns):\n",
      " #   Column                 Non-Null Count  Dtype  \n",
      "---  ------                 --------------  -----  \n",
      " 0   can_id                 1814 non-null   object \n",
      " 1   can_nam                1814 non-null   object \n",
      " 2   can_off                1814 non-null   object \n",
      " 3   can_off_sta            1814 non-null   object \n",
      " 4   can_off_dis            1812 non-null   float64\n",
      " 5   can_par_aff            1813 non-null   object \n",
      " 6   can_inc_cha_ope_sea    1812 non-null   object \n",
      " 7   can_str1               1789 non-null   object \n",
      " 8   can_str2               122 non-null    object \n",
      " 9   can_cit                1813 non-null   object \n",
      " 10  can_sta                1806 non-null   object \n",
      " 11  can_zip                1789 non-null   float64\n",
      " 12  ind_ite_con            1570 non-null   object \n",
      " 13  ind_uni_con            1538 non-null   object \n",
      " 14  ind_con                1616 non-null   object \n",
      " 15  par_com_con            382 non-null    object \n",
      " 16  oth_com_con            1011 non-null   object \n",
      " 17  can_con                675 non-null    object \n",
      " 18  tot_con                1695 non-null   object \n",
      " 19  tra_fro_oth_aut_com    261 non-null    object \n",
      " 20  can_loa                640 non-null    object \n",
      " 21  oth_loa                67 non-null     object \n",
      " 22  tot_loa                653 non-null    object \n",
      " 23  off_to_ope_exp         763 non-null    object \n",
      " 24  off_to_fun             4 non-null      object \n",
      " 25  off_to_leg_acc         1 non-null      object \n",
      " 26  oth_rec                534 non-null    object \n",
      " 27  tot_rec                1721 non-null   object \n",
      " 28  ope_exp                1717 non-null   object \n",
      " 29  exe_leg_acc_dis        6 non-null      object \n",
      " 30  fun_dis                15 non-null     object \n",
      " 31  tra_to_oth_aut_com     153 non-null    object \n",
      " 32  can_loa_rep            294 non-null    object \n",
      " 33  oth_loa_rep            33 non-null     object \n",
      " 34  tot_loa_rep            306 non-null    object \n",
      " 35  ind_ref                831 non-null    object \n",
      " 36  par_com_ref            24 non-null     object \n",
      " 37  oth_com_ref            362 non-null    object \n",
      " 38  tot_con_ref            872 non-null    object \n",
      " 39  oth_dis                795 non-null    object \n",
      " 40  tot_dis                1730 non-null   object \n",
      " 41  cas_on_han_beg_of_per  700 non-null    object \n",
      " 42  cas_on_han_clo_of_per  1434 non-null   object \n",
      " 43  net_con                1643 non-null   object \n",
      " 44  net_ope_exp            1665 non-null   object \n",
      " 45  deb_owe_by_com         732 non-null    object \n",
      " 46  deb_owe_to_com         23 non-null     object \n",
      " 47  cov_sta_dat            1814 non-null   object \n",
      " 48  cov_end_dat            1814 non-null   object \n",
      " 49  winner                 471 non-null    object \n",
      " 50  votes                  379 non-null    float64\n",
      "dtypes: float64(3), object(48)\n",
      "memory usage: 722.9+ KB\n"
     ]
    }
   ],
   "source": [
    "df.info()"
   ]
  },
  {
   "cell_type": "markdown",
   "metadata": {},
   "source": [
    "# Step 3 - Data Cleaning"
   ]
  },
  {
   "cell_type": "code",
   "execution_count": 4,
   "metadata": {
    "scrolled": false
   },
   "outputs": [],
   "source": [
    "# Remove parentheses\n",
    "df = df.replace(to_replace='\\(', value=\"\", regex=True)\n",
    "df = df.replace(to_replace='\\)', value=\"\", regex=True)"
   ]
  },
  {
   "cell_type": "code",
   "execution_count": 5,
   "metadata": {},
   "outputs": [],
   "source": [
    "# Remove dollar signs from columns 12-46\n",
    "df[df.columns[12:47]] = df[df.columns[12:47]].replace('[\\$,]', '', regex=True)"
   ]
  },
  {
   "cell_type": "code",
   "execution_count": 6,
   "metadata": {},
   "outputs": [],
   "source": [
    "# Replace empty spaces in columns 12-46 with nan\n",
    "df[df.columns[12:47]] = df[df.columns[12:47]].replace(r'^\\s*$', np.nan, regex=True)"
   ]
  },
  {
   "cell_type": "code",
   "execution_count": 7,
   "metadata": {},
   "outputs": [],
   "source": [
    "# Change values in columns 12-46 to floats\n",
    "df[df.columns[12:47]] = df[df.columns[12:47]].astype(float)"
   ]
  },
  {
   "cell_type": "code",
   "execution_count": 8,
   "metadata": {},
   "outputs": [],
   "source": [
    "# replace Y in 'winner' column with 1\n",
    "df['winner'] = np.where(df['winner']=='Y', 1, df['winner'])"
   ]
  },
  {
   "cell_type": "code",
   "execution_count": 9,
   "metadata": {},
   "outputs": [],
   "source": [
    "# replace NaN in 'winner' column with 0\n",
    "df['winner'] = df['winner'].fillna(0)"
   ]
  },
  {
   "cell_type": "code",
   "execution_count": 10,
   "metadata": {},
   "outputs": [],
   "source": [
    "# Drop 'P' from 'can_off column'\n",
    "df = df[df[\"can_off\"] != 'P']\n",
    "df.reset_index(drop=True, inplace=True)"
   ]
  },
  {
   "cell_type": "code",
   "execution_count": 11,
   "metadata": {},
   "outputs": [
    {
     "data": {
      "image/png": "[encoded data removed]",
      "text/plain": [
       "<Figure size 432x288 with 1 Axes>"
      ]
     },
     "metadata": {},
     "output_type": "display_data"
    }
   ],
   "source": [
    "sns.set_theme(style=\"darkgrid\")\n",
    "sns.histplot(df, x='can_off')\n",
    "plt.title('Number of Candidates Running for House vs. Senate');"
   ]
  },
  {
   "cell_type": "code",
   "execution_count": 12,
   "metadata": {},
   "outputs": [
    {
     "data": {
      "text/plain": [
       "H    1429\n",
       "S     227\n",
       "Name: can_off, dtype: int64"
      ]
     },
     "execution_count": 12,
     "metadata": {},
     "output_type": "execute_result"
    }
   ],
   "source": [
    "df['can_off'].value_counts()"
   ]
  },
  {
   "cell_type": "code",
   "execution_count": 13,
   "metadata": {},
   "outputs": [
    {
     "data": {
      "image/png": "[encoded data removed]",
      "text/plain": [
       "<Figure size 432x288 with 1 Axes>"
      ]
     },
     "metadata": {},
     "output_type": "display_data"
    }
   ],
   "source": [
    "sns.set(style='darkgrid')\n",
    "sns.boxplot(x=df['can_off'],y=df['net_con'])\n",
    "plt.title('Net Contributions By Office');"
   ]
  },
  {
   "cell_type": "code",
   "execution_count": 14,
   "metadata": {},
   "outputs": [],
   "source": [
    "# Drop features\n",
    "df = df.drop(['can_id', 'can_str1', 'can_str2', 'can_cit', 'can_sta', 'off_to_fun',\n",
    "              'off_to_leg_acc', 'exe_leg_acc_dis', 'fun_dis', 'cov_sta_dat', 'cov_end_dat',\n",
    "              'votes', 'can_nam', 'can_off_sta'], axis=1)"
   ]
  },
  {
   "cell_type": "code",
   "execution_count": 15,
   "metadata": {},
   "outputs": [],
   "source": [
    "# replace parties that are not DEM REP or IND in 'can_par_aff' column with 'OTHER'\n",
    "df['can_par_aff'] = np.where((df['can_par_aff'] != ('REP')) & (df['can_par_aff'] != ('DEM')) & (df['can_par_aff'] != ('IND')),\n",
    "                             'OTHER', df['can_par_aff'])"
   ]
  },
  {
   "cell_type": "code",
   "execution_count": 16,
   "metadata": {},
   "outputs": [
    {
     "data": {
      "image/png": "[encoded data removed]",
      "text/plain": [
       "<Figure size 432x288 with 1 Axes>"
      ]
     },
     "metadata": {},
     "output_type": "display_data"
    }
   ],
   "source": [
    "sns.set_theme(style=\"darkgrid\")\n",
    "sns.histplot(df, x='can_par_aff')\n",
    "plt.title('Party Affiliation');"
   ]
  },
  {
   "cell_type": "code",
   "execution_count": 17,
   "metadata": {},
   "outputs": [
    {
     "data": {
      "image/png": "[encoded data removed]",
      "text/plain": [
       "<Figure size 432x288 with 1 Axes>"
      ]
     },
     "metadata": {},
     "output_type": "display_data"
    }
   ],
   "source": [
    "sns.set(style='darkgrid')\n",
    "sns.boxplot(x=df['can_par_aff'],y=df['net_con'])\n",
    "plt.title('Net Contributions By Party');"
   ]
  },
  {
   "cell_type": "code",
   "execution_count": 18,
   "metadata": {
    "scrolled": true
   },
   "outputs": [
    {
     "name": "stdout",
     "output_type": "stream",
     "text": [
      "<class 'pandas.core.frame.DataFrame'>\n",
      "RangeIndex: 1656 entries, 0 to 1655\n",
      "Data columns (total 37 columns):\n",
      " #   Column                 Non-Null Count  Dtype  \n",
      "---  ------                 --------------  -----  \n",
      " 0   can_off                1656 non-null   object \n",
      " 1   can_off_dis            1654 non-null   float64\n",
      " 2   can_par_aff            1656 non-null   object \n",
      " 3   can_inc_cha_ope_sea    1654 non-null   object \n",
      " 4   can_zip                1635 non-null   float64\n",
      " 5   ind_ite_con            1509 non-null   float64\n",
      " 6   ind_uni_con            1479 non-null   float64\n",
      " 7   ind_con                1545 non-null   float64\n",
      " 8   par_com_con            378 non-null    float64\n",
      " 9   oth_com_con            987 non-null    float64\n",
      " 10  can_con                616 non-null    float64\n",
      " 11  tot_con                1595 non-null   float64\n",
      " 12  tra_fro_oth_aut_com    251 non-null    float64\n",
      " 13  can_loa                603 non-null    float64\n",
      " 14  oth_loa                59 non-null     float64\n",
      " 15  tot_loa                626 non-null    float64\n",
      " 16  off_to_ope_exp         730 non-null    float64\n",
      " 17  oth_rec                517 non-null    float64\n",
      " 18  tot_rec                1614 non-null   float64\n",
      " 19  ope_exp                1610 non-null   float64\n",
      " 20  tra_to_oth_aut_com     145 non-null    float64\n",
      " 21  can_loa_rep            287 non-null    float64\n",
      " 22  oth_loa_rep            26 non-null     float64\n",
      " 23  tot_loa_rep            297 non-null    float64\n",
      " 24  ind_ref                800 non-null    float64\n",
      " 25  par_com_ref            23 non-null     float64\n",
      " 26  oth_com_ref            351 non-null    float64\n",
      " 27  tot_con_ref            844 non-null    float64\n",
      " 28  oth_dis                773 non-null    float64\n",
      " 29  tot_dis                1616 non-null   float64\n",
      " 30  cas_on_han_beg_of_per  660 non-null    float64\n",
      " 31  cas_on_han_clo_of_per  1350 non-null   float64\n",
      " 32  net_con                1580 non-null   float64\n",
      " 33  net_ope_exp            1597 non-null   float64\n",
      " 34  deb_owe_by_com         688 non-null    float64\n",
      " 35  deb_owe_to_com         20 non-null     float64\n",
      " 36  winner                 1656 non-null   int64  \n",
      "dtypes: float64(33), int64(1), object(3)\n",
      "memory usage: 478.8+ KB\n"
     ]
    }
   ],
   "source": [
    "df.info()"
   ]
  },
  {
   "cell_type": "markdown",
   "metadata": {},
   "source": [
    "# Step 3 - EDA"
   ]
  },
  {
   "cell_type": "code",
   "execution_count": 19,
   "metadata": {
    "scrolled": true
   },
   "outputs": [
    {
     "data": {
      "text/html": [
       "<div>\n",
       "<style scoped>\n",
       "    .dataframe tbody tr th:only-of-type {\n",
       "        vertical-align: middle;\n",
       "    }\n",
       "\n",
       "    .dataframe tbody tr th {\n",
       "        vertical-align: top;\n",
       "    }\n",
       "\n",
       "    .dataframe thead th {\n",
       "        text-align: right;\n",
       "    }\n",
       "</style>\n",
       "<table border=\"1\" class=\"dataframe\">\n",
       "  <thead>\n",
       "    <tr style=\"text-align: right;\">\n",
       "      <th></th>\n",
       "      <th>can_off_dis</th>\n",
       "      <th>can_zip</th>\n",
       "      <th>ind_ite_con</th>\n",
       "      <th>ind_uni_con</th>\n",
       "      <th>ind_con</th>\n",
       "      <th>par_com_con</th>\n",
       "      <th>oth_com_con</th>\n",
       "      <th>can_con</th>\n",
       "      <th>tot_con</th>\n",
       "      <th>tra_fro_oth_aut_com</th>\n",
       "      <th>...</th>\n",
       "      <th>tot_con_ref</th>\n",
       "      <th>oth_dis</th>\n",
       "      <th>tot_dis</th>\n",
       "      <th>cas_on_han_beg_of_per</th>\n",
       "      <th>cas_on_han_clo_of_per</th>\n",
       "      <th>net_con</th>\n",
       "      <th>net_ope_exp</th>\n",
       "      <th>deb_owe_by_com</th>\n",
       "      <th>deb_owe_to_com</th>\n",
       "      <th>winner</th>\n",
       "    </tr>\n",
       "  </thead>\n",
       "  <tbody>\n",
       "    <tr>\n",
       "      <th>can_off_dis</th>\n",
       "      <td>1.00</td>\n",
       "      <td>0.06</td>\n",
       "      <td>-0.10</td>\n",
       "      <td>-0.09</td>\n",
       "      <td>-0.10</td>\n",
       "      <td>-0.12</td>\n",
       "      <td>-0.05</td>\n",
       "      <td>0.01</td>\n",
       "      <td>-0.08</td>\n",
       "      <td>-0.13</td>\n",
       "      <td>...</td>\n",
       "      <td>-0.13</td>\n",
       "      <td>-0.02</td>\n",
       "      <td>-0.09</td>\n",
       "      <td>-0.07</td>\n",
       "      <td>-0.04</td>\n",
       "      <td>-0.08</td>\n",
       "      <td>-0.09</td>\n",
       "      <td>-0.04</td>\n",
       "      <td>-0.00</td>\n",
       "      <td>0.04</td>\n",
       "    </tr>\n",
       "    <tr>\n",
       "      <th>can_zip</th>\n",
       "      <td>0.06</td>\n",
       "      <td>1.00</td>\n",
       "      <td>0.08</td>\n",
       "      <td>0.00</td>\n",
       "      <td>0.06</td>\n",
       "      <td>0.05</td>\n",
       "      <td>0.30</td>\n",
       "      <td>-0.01</td>\n",
       "      <td>0.13</td>\n",
       "      <td>0.07</td>\n",
       "      <td>...</td>\n",
       "      <td>-0.03</td>\n",
       "      <td>0.12</td>\n",
       "      <td>0.12</td>\n",
       "      <td>0.08</td>\n",
       "      <td>0.16</td>\n",
       "      <td>0.13</td>\n",
       "      <td>0.09</td>\n",
       "      <td>-0.02</td>\n",
       "      <td>-0.04</td>\n",
       "      <td>0.29</td>\n",
       "    </tr>\n",
       "    <tr>\n",
       "      <th>ind_ite_con</th>\n",
       "      <td>-0.10</td>\n",
       "      <td>0.08</td>\n",
       "      <td>1.00</td>\n",
       "      <td>0.71</td>\n",
       "      <td>0.98</td>\n",
       "      <td>0.40</td>\n",
       "      <td>0.60</td>\n",
       "      <td>0.04</td>\n",
       "      <td>0.98</td>\n",
       "      <td>0.40</td>\n",
       "      <td>...</td>\n",
       "      <td>0.52</td>\n",
       "      <td>0.27</td>\n",
       "      <td>0.93</td>\n",
       "      <td>0.46</td>\n",
       "      <td>0.59</td>\n",
       "      <td>0.97</td>\n",
       "      <td>0.90</td>\n",
       "      <td>0.06</td>\n",
       "      <td>-0.11</td>\n",
       "      <td>0.29</td>\n",
       "    </tr>\n",
       "    <tr>\n",
       "      <th>ind_uni_con</th>\n",
       "      <td>-0.09</td>\n",
       "      <td>0.00</td>\n",
       "      <td>0.71</td>\n",
       "      <td>1.00</td>\n",
       "      <td>0.83</td>\n",
       "      <td>0.31</td>\n",
       "      <td>0.25</td>\n",
       "      <td>-0.02</td>\n",
       "      <td>0.75</td>\n",
       "      <td>0.20</td>\n",
       "      <td>...</td>\n",
       "      <td>0.37</td>\n",
       "      <td>0.02</td>\n",
       "      <td>0.70</td>\n",
       "      <td>0.19</td>\n",
       "      <td>0.25</td>\n",
       "      <td>0.75</td>\n",
       "      <td>0.74</td>\n",
       "      <td>0.05</td>\n",
       "      <td>-0.12</td>\n",
       "      <td>0.11</td>\n",
       "    </tr>\n",
       "    <tr>\n",
       "      <th>ind_con</th>\n",
       "      <td>-0.10</td>\n",
       "      <td>0.06</td>\n",
       "      <td>0.98</td>\n",
       "      <td>0.83</td>\n",
       "      <td>1.00</td>\n",
       "      <td>0.39</td>\n",
       "      <td>0.54</td>\n",
       "      <td>-0.00</td>\n",
       "      <td>0.96</td>\n",
       "      <td>0.37</td>\n",
       "      <td>...</td>\n",
       "      <td>0.51</td>\n",
       "      <td>0.22</td>\n",
       "      <td>0.91</td>\n",
       "      <td>0.44</td>\n",
       "      <td>0.53</td>\n",
       "      <td>0.96</td>\n",
       "      <td>0.90</td>\n",
       "      <td>0.06</td>\n",
       "      <td>-0.11</td>\n",
       "      <td>0.27</td>\n",
       "    </tr>\n",
       "    <tr>\n",
       "      <th>par_com_con</th>\n",
       "      <td>-0.12</td>\n",
       "      <td>0.05</td>\n",
       "      <td>0.40</td>\n",
       "      <td>0.31</td>\n",
       "      <td>0.39</td>\n",
       "      <td>1.00</td>\n",
       "      <td>0.34</td>\n",
       "      <td>-0.02</td>\n",
       "      <td>0.41</td>\n",
       "      <td>0.60</td>\n",
       "      <td>...</td>\n",
       "      <td>0.23</td>\n",
       "      <td>0.02</td>\n",
       "      <td>0.39</td>\n",
       "      <td>0.28</td>\n",
       "      <td>0.42</td>\n",
       "      <td>0.41</td>\n",
       "      <td>0.38</td>\n",
       "      <td>0.15</td>\n",
       "      <td>-0.19</td>\n",
       "      <td>0.05</td>\n",
       "    </tr>\n",
       "    <tr>\n",
       "      <th>oth_com_con</th>\n",
       "      <td>-0.05</td>\n",
       "      <td>0.30</td>\n",
       "      <td>0.60</td>\n",
       "      <td>0.25</td>\n",
       "      <td>0.54</td>\n",
       "      <td>0.34</td>\n",
       "      <td>1.00</td>\n",
       "      <td>-0.02</td>\n",
       "      <td>0.71</td>\n",
       "      <td>0.27</td>\n",
       "      <td>...</td>\n",
       "      <td>0.17</td>\n",
       "      <td>0.39</td>\n",
       "      <td>0.65</td>\n",
       "      <td>0.42</td>\n",
       "      <td>0.63</td>\n",
       "      <td>0.71</td>\n",
       "      <td>0.58</td>\n",
       "      <td>-0.01</td>\n",
       "      <td>0.11</td>\n",
       "      <td>0.60</td>\n",
       "    </tr>\n",
       "    <tr>\n",
       "      <th>can_con</th>\n",
       "      <td>0.01</td>\n",
       "      <td>-0.01</td>\n",
       "      <td>0.04</td>\n",
       "      <td>-0.02</td>\n",
       "      <td>-0.00</td>\n",
       "      <td>-0.02</td>\n",
       "      <td>-0.02</td>\n",
       "      <td>1.00</td>\n",
       "      <td>0.46</td>\n",
       "      <td>-0.09</td>\n",
       "      <td>...</td>\n",
       "      <td>-0.01</td>\n",
       "      <td>-0.02</td>\n",
       "      <td>0.47</td>\n",
       "      <td>0.05</td>\n",
       "      <td>0.00</td>\n",
       "      <td>0.46</td>\n",
       "      <td>0.47</td>\n",
       "      <td>0.27</td>\n",
       "      <td>0.95</td>\n",
       "      <td>0.03</td>\n",
       "    </tr>\n",
       "    <tr>\n",
       "      <th>tot_con</th>\n",
       "      <td>-0.08</td>\n",
       "      <td>0.13</td>\n",
       "      <td>0.98</td>\n",
       "      <td>0.75</td>\n",
       "      <td>0.96</td>\n",
       "      <td>0.41</td>\n",
       "      <td>0.71</td>\n",
       "      <td>0.46</td>\n",
       "      <td>1.00</td>\n",
       "      <td>0.38</td>\n",
       "      <td>...</td>\n",
       "      <td>0.48</td>\n",
       "      <td>0.28</td>\n",
       "      <td>0.95</td>\n",
       "      <td>0.47</td>\n",
       "      <td>0.60</td>\n",
       "      <td>1.00</td>\n",
       "      <td>0.92</td>\n",
       "      <td>0.08</td>\n",
       "      <td>-0.13</td>\n",
       "      <td>0.39</td>\n",
       "    </tr>\n",
       "    <tr>\n",
       "      <th>tra_fro_oth_aut_com</th>\n",
       "      <td>-0.13</td>\n",
       "      <td>0.07</td>\n",
       "      <td>0.40</td>\n",
       "      <td>0.20</td>\n",
       "      <td>0.37</td>\n",
       "      <td>0.60</td>\n",
       "      <td>0.27</td>\n",
       "      <td>-0.09</td>\n",
       "      <td>0.38</td>\n",
       "      <td>1.00</td>\n",
       "      <td>...</td>\n",
       "      <td>0.19</td>\n",
       "      <td>0.66</td>\n",
       "      <td>0.48</td>\n",
       "      <td>0.17</td>\n",
       "      <td>0.49</td>\n",
       "      <td>0.38</td>\n",
       "      <td>0.38</td>\n",
       "      <td>-0.01</td>\n",
       "      <td>-1.00</td>\n",
       "      <td>0.02</td>\n",
       "    </tr>\n",
       "    <tr>\n",
       "      <th>can_loa</th>\n",
       "      <td>-0.03</td>\n",
       "      <td>0.00</td>\n",
       "      <td>0.11</td>\n",
       "      <td>0.03</td>\n",
       "      <td>0.09</td>\n",
       "      <td>0.08</td>\n",
       "      <td>0.01</td>\n",
       "      <td>0.31</td>\n",
       "      <td>0.16</td>\n",
       "      <td>0.11</td>\n",
       "      <td>...</td>\n",
       "      <td>0.03</td>\n",
       "      <td>0.05</td>\n",
       "      <td>0.66</td>\n",
       "      <td>0.39</td>\n",
       "      <td>0.21</td>\n",
       "      <td>0.16</td>\n",
       "      <td>0.66</td>\n",
       "      <td>0.93</td>\n",
       "      <td>1.00</td>\n",
       "      <td>0.09</td>\n",
       "    </tr>\n",
       "    <tr>\n",
       "      <th>oth_loa</th>\n",
       "      <td>-0.13</td>\n",
       "      <td>-0.04</td>\n",
       "      <td>0.24</td>\n",
       "      <td>0.51</td>\n",
       "      <td>0.32</td>\n",
       "      <td>-0.24</td>\n",
       "      <td>-0.05</td>\n",
       "      <td>0.05</td>\n",
       "      <td>0.27</td>\n",
       "      <td>nan</td>\n",
       "      <td>...</td>\n",
       "      <td>0.08</td>\n",
       "      <td>-0.12</td>\n",
       "      <td>0.90</td>\n",
       "      <td>1.00</td>\n",
       "      <td>0.82</td>\n",
       "      <td>0.27</td>\n",
       "      <td>0.91</td>\n",
       "      <td>0.95</td>\n",
       "      <td>nan</td>\n",
       "      <td>0.10</td>\n",
       "    </tr>\n",
       "    <tr>\n",
       "      <th>tot_loa</th>\n",
       "      <td>-0.04</td>\n",
       "      <td>-0.00</td>\n",
       "      <td>0.11</td>\n",
       "      <td>0.04</td>\n",
       "      <td>0.10</td>\n",
       "      <td>0.08</td>\n",
       "      <td>0.01</td>\n",
       "      <td>0.30</td>\n",
       "      <td>0.15</td>\n",
       "      <td>0.11</td>\n",
       "      <td>...</td>\n",
       "      <td>0.02</td>\n",
       "      <td>0.05</td>\n",
       "      <td>0.66</td>\n",
       "      <td>0.57</td>\n",
       "      <td>0.23</td>\n",
       "      <td>0.15</td>\n",
       "      <td>0.66</td>\n",
       "      <td>0.92</td>\n",
       "      <td>1.00</td>\n",
       "      <td>0.09</td>\n",
       "    </tr>\n",
       "    <tr>\n",
       "      <th>off_to_ope_exp</th>\n",
       "      <td>-0.03</td>\n",
       "      <td>0.08</td>\n",
       "      <td>0.30</td>\n",
       "      <td>0.21</td>\n",
       "      <td>0.30</td>\n",
       "      <td>0.41</td>\n",
       "      <td>0.35</td>\n",
       "      <td>0.00</td>\n",
       "      <td>0.34</td>\n",
       "      <td>0.08</td>\n",
       "      <td>...</td>\n",
       "      <td>0.20</td>\n",
       "      <td>0.12</td>\n",
       "      <td>0.30</td>\n",
       "      <td>0.09</td>\n",
       "      <td>0.23</td>\n",
       "      <td>0.33</td>\n",
       "      <td>0.30</td>\n",
       "      <td>0.05</td>\n",
       "      <td>0.16</td>\n",
       "      <td>0.14</td>\n",
       "    </tr>\n",
       "    <tr>\n",
       "      <th>oth_rec</th>\n",
       "      <td>-0.02</td>\n",
       "      <td>0.02</td>\n",
       "      <td>0.32</td>\n",
       "      <td>0.08</td>\n",
       "      <td>0.28</td>\n",
       "      <td>0.12</td>\n",
       "      <td>0.23</td>\n",
       "      <td>-0.02</td>\n",
       "      <td>0.28</td>\n",
       "      <td>0.02</td>\n",
       "      <td>...</td>\n",
       "      <td>0.16</td>\n",
       "      <td>0.31</td>\n",
       "      <td>0.29</td>\n",
       "      <td>0.46</td>\n",
       "      <td>0.47</td>\n",
       "      <td>0.28</td>\n",
       "      <td>0.23</td>\n",
       "      <td>-0.01</td>\n",
       "      <td>0.87</td>\n",
       "      <td>0.12</td>\n",
       "    </tr>\n",
       "    <tr>\n",
       "      <th>tot_rec</th>\n",
       "      <td>-0.09</td>\n",
       "      <td>0.13</td>\n",
       "      <td>0.95</td>\n",
       "      <td>0.71</td>\n",
       "      <td>0.94</td>\n",
       "      <td>0.41</td>\n",
       "      <td>0.68</td>\n",
       "      <td>0.43</td>\n",
       "      <td>0.97</td>\n",
       "      <td>0.56</td>\n",
       "      <td>...</td>\n",
       "      <td>0.47</td>\n",
       "      <td>0.35</td>\n",
       "      <td>0.97</td>\n",
       "      <td>0.47</td>\n",
       "      <td>0.61</td>\n",
       "      <td>0.97</td>\n",
       "      <td>0.93</td>\n",
       "      <td>0.32</td>\n",
       "      <td>-0.08</td>\n",
       "      <td>0.37</td>\n",
       "    </tr>\n",
       "    <tr>\n",
       "      <th>ope_exp</th>\n",
       "      <td>-0.09</td>\n",
       "      <td>0.10</td>\n",
       "      <td>0.92</td>\n",
       "      <td>0.71</td>\n",
       "      <td>0.91</td>\n",
       "      <td>0.39</td>\n",
       "      <td>0.62</td>\n",
       "      <td>0.47</td>\n",
       "      <td>0.94</td>\n",
       "      <td>0.39</td>\n",
       "      <td>...</td>\n",
       "      <td>0.48</td>\n",
       "      <td>0.14</td>\n",
       "      <td>0.99</td>\n",
       "      <td>0.52</td>\n",
       "      <td>0.49</td>\n",
       "      <td>0.94</td>\n",
       "      <td>0.98</td>\n",
       "      <td>0.34</td>\n",
       "      <td>-0.08</td>\n",
       "      <td>0.29</td>\n",
       "    </tr>\n",
       "    <tr>\n",
       "      <th>tra_to_oth_aut_com</th>\n",
       "      <td>-0.12</td>\n",
       "      <td>0.12</td>\n",
       "      <td>-0.04</td>\n",
       "      <td>-0.02</td>\n",
       "      <td>-0.04</td>\n",
       "      <td>0.29</td>\n",
       "      <td>0.08</td>\n",
       "      <td>-0.06</td>\n",
       "      <td>-0.00</td>\n",
       "      <td>0.14</td>\n",
       "      <td>...</td>\n",
       "      <td>-0.05</td>\n",
       "      <td>-0.01</td>\n",
       "      <td>0.09</td>\n",
       "      <td>0.38</td>\n",
       "      <td>0.07</td>\n",
       "      <td>-0.00</td>\n",
       "      <td>0.01</td>\n",
       "      <td>0.08</td>\n",
       "      <td>0.19</td>\n",
       "      <td>0.24</td>\n",
       "    </tr>\n",
       "    <tr>\n",
       "      <th>can_loa_rep</th>\n",
       "      <td>-0.06</td>\n",
       "      <td>0.05</td>\n",
       "      <td>0.08</td>\n",
       "      <td>0.09</td>\n",
       "      <td>0.09</td>\n",
       "      <td>-0.06</td>\n",
       "      <td>0.07</td>\n",
       "      <td>0.23</td>\n",
       "      <td>0.09</td>\n",
       "      <td>0.25</td>\n",
       "      <td>...</td>\n",
       "      <td>0.06</td>\n",
       "      <td>0.14</td>\n",
       "      <td>0.21</td>\n",
       "      <td>0.03</td>\n",
       "      <td>0.11</td>\n",
       "      <td>0.08</td>\n",
       "      <td>0.10</td>\n",
       "      <td>0.36</td>\n",
       "      <td>nan</td>\n",
       "      <td>0.11</td>\n",
       "    </tr>\n",
       "    <tr>\n",
       "      <th>oth_loa_rep</th>\n",
       "      <td>0.13</td>\n",
       "      <td>0.20</td>\n",
       "      <td>0.43</td>\n",
       "      <td>-0.03</td>\n",
       "      <td>0.39</td>\n",
       "      <td>-0.70</td>\n",
       "      <td>-0.06</td>\n",
       "      <td>0.99</td>\n",
       "      <td>0.41</td>\n",
       "      <td>nan</td>\n",
       "      <td>...</td>\n",
       "      <td>0.44</td>\n",
       "      <td>-0.16</td>\n",
       "      <td>0.84</td>\n",
       "      <td>0.21</td>\n",
       "      <td>0.24</td>\n",
       "      <td>0.41</td>\n",
       "      <td>0.85</td>\n",
       "      <td>0.93</td>\n",
       "      <td>nan</td>\n",
       "      <td>0.26</td>\n",
       "    </tr>\n",
       "    <tr>\n",
       "      <th>tot_loa_rep</th>\n",
       "      <td>-0.05</td>\n",
       "      <td>0.05</td>\n",
       "      <td>0.09</td>\n",
       "      <td>0.08</td>\n",
       "      <td>0.09</td>\n",
       "      <td>-0.06</td>\n",
       "      <td>0.06</td>\n",
       "      <td>0.30</td>\n",
       "      <td>0.09</td>\n",
       "      <td>0.25</td>\n",
       "      <td>...</td>\n",
       "      <td>0.05</td>\n",
       "      <td>0.11</td>\n",
       "      <td>0.22</td>\n",
       "      <td>0.02</td>\n",
       "      <td>0.11</td>\n",
       "      <td>0.09</td>\n",
       "      <td>0.12</td>\n",
       "      <td>0.37</td>\n",
       "      <td>nan</td>\n",
       "      <td>0.12</td>\n",
       "    </tr>\n",
       "    <tr>\n",
       "      <th>ind_ref</th>\n",
       "      <td>-0.13</td>\n",
       "      <td>-0.04</td>\n",
       "      <td>0.50</td>\n",
       "      <td>0.37</td>\n",
       "      <td>0.50</td>\n",
       "      <td>0.21</td>\n",
       "      <td>0.14</td>\n",
       "      <td>-0.01</td>\n",
       "      <td>0.46</td>\n",
       "      <td>0.20</td>\n",
       "      <td>...</td>\n",
       "      <td>0.99</td>\n",
       "      <td>0.09</td>\n",
       "      <td>0.48</td>\n",
       "      <td>0.23</td>\n",
       "      <td>0.20</td>\n",
       "      <td>0.44</td>\n",
       "      <td>0.46</td>\n",
       "      <td>0.02</td>\n",
       "      <td>-0.30</td>\n",
       "      <td>-0.10</td>\n",
       "    </tr>\n",
       "    <tr>\n",
       "      <th>par_com_ref</th>\n",
       "      <td>-0.25</td>\n",
       "      <td>-0.14</td>\n",
       "      <td>0.45</td>\n",
       "      <td>0.43</td>\n",
       "      <td>0.45</td>\n",
       "      <td>0.78</td>\n",
       "      <td>0.30</td>\n",
       "      <td>0.22</td>\n",
       "      <td>0.45</td>\n",
       "      <td>0.09</td>\n",
       "      <td>...</td>\n",
       "      <td>0.54</td>\n",
       "      <td>-0.09</td>\n",
       "      <td>0.53</td>\n",
       "      <td>0.56</td>\n",
       "      <td>0.42</td>\n",
       "      <td>0.45</td>\n",
       "      <td>0.53</td>\n",
       "      <td>0.93</td>\n",
       "      <td>nan</td>\n",
       "      <td>0.35</td>\n",
       "    </tr>\n",
       "    <tr>\n",
       "      <th>oth_com_ref</th>\n",
       "      <td>-0.13</td>\n",
       "      <td>0.03</td>\n",
       "      <td>0.28</td>\n",
       "      <td>0.10</td>\n",
       "      <td>0.25</td>\n",
       "      <td>0.25</td>\n",
       "      <td>0.23</td>\n",
       "      <td>-0.09</td>\n",
       "      <td>0.27</td>\n",
       "      <td>0.03</td>\n",
       "      <td>...</td>\n",
       "      <td>0.46</td>\n",
       "      <td>0.08</td>\n",
       "      <td>0.29</td>\n",
       "      <td>0.16</td>\n",
       "      <td>0.12</td>\n",
       "      <td>0.26</td>\n",
       "      <td>0.24</td>\n",
       "      <td>-0.02</td>\n",
       "      <td>-1.00</td>\n",
       "      <td>-0.12</td>\n",
       "    </tr>\n",
       "    <tr>\n",
       "      <th>tot_con_ref</th>\n",
       "      <td>-0.13</td>\n",
       "      <td>-0.03</td>\n",
       "      <td>0.52</td>\n",
       "      <td>0.37</td>\n",
       "      <td>0.51</td>\n",
       "      <td>0.23</td>\n",
       "      <td>0.17</td>\n",
       "      <td>-0.01</td>\n",
       "      <td>0.48</td>\n",
       "      <td>0.19</td>\n",
       "      <td>...</td>\n",
       "      <td>1.00</td>\n",
       "      <td>0.10</td>\n",
       "      <td>0.50</td>\n",
       "      <td>0.25</td>\n",
       "      <td>0.21</td>\n",
       "      <td>0.46</td>\n",
       "      <td>0.48</td>\n",
       "      <td>0.02</td>\n",
       "      <td>-0.33</td>\n",
       "      <td>-0.10</td>\n",
       "    </tr>\n",
       "    <tr>\n",
       "      <th>oth_dis</th>\n",
       "      <td>-0.02</td>\n",
       "      <td>0.12</td>\n",
       "      <td>0.27</td>\n",
       "      <td>0.02</td>\n",
       "      <td>0.22</td>\n",
       "      <td>0.02</td>\n",
       "      <td>0.39</td>\n",
       "      <td>-0.02</td>\n",
       "      <td>0.28</td>\n",
       "      <td>0.66</td>\n",
       "      <td>...</td>\n",
       "      <td>0.10</td>\n",
       "      <td>1.00</td>\n",
       "      <td>0.28</td>\n",
       "      <td>0.42</td>\n",
       "      <td>0.65</td>\n",
       "      <td>0.28</td>\n",
       "      <td>0.13</td>\n",
       "      <td>0.01</td>\n",
       "      <td>-0.00</td>\n",
       "      <td>0.25</td>\n",
       "    </tr>\n",
       "    <tr>\n",
       "      <th>tot_dis</th>\n",
       "      <td>-0.09</td>\n",
       "      <td>0.12</td>\n",
       "      <td>0.93</td>\n",
       "      <td>0.70</td>\n",
       "      <td>0.91</td>\n",
       "      <td>0.39</td>\n",
       "      <td>0.65</td>\n",
       "      <td>0.47</td>\n",
       "      <td>0.95</td>\n",
       "      <td>0.48</td>\n",
       "      <td>...</td>\n",
       "      <td>0.50</td>\n",
       "      <td>0.28</td>\n",
       "      <td>1.00</td>\n",
       "      <td>0.58</td>\n",
       "      <td>0.56</td>\n",
       "      <td>0.95</td>\n",
       "      <td>0.96</td>\n",
       "      <td>0.33</td>\n",
       "      <td>-0.06</td>\n",
       "      <td>0.33</td>\n",
       "    </tr>\n",
       "    <tr>\n",
       "      <th>cas_on_han_beg_of_per</th>\n",
       "      <td>-0.07</td>\n",
       "      <td>0.08</td>\n",
       "      <td>0.46</td>\n",
       "      <td>0.19</td>\n",
       "      <td>0.44</td>\n",
       "      <td>0.28</td>\n",
       "      <td>0.42</td>\n",
       "      <td>0.05</td>\n",
       "      <td>0.47</td>\n",
       "      <td>0.17</td>\n",
       "      <td>...</td>\n",
       "      <td>0.25</td>\n",
       "      <td>0.42</td>\n",
       "      <td>0.58</td>\n",
       "      <td>1.00</td>\n",
       "      <td>0.82</td>\n",
       "      <td>0.47</td>\n",
       "      <td>0.52</td>\n",
       "      <td>0.07</td>\n",
       "      <td>-0.01</td>\n",
       "      <td>0.21</td>\n",
       "    </tr>\n",
       "    <tr>\n",
       "      <th>cas_on_han_clo_of_per</th>\n",
       "      <td>-0.04</td>\n",
       "      <td>0.16</td>\n",
       "      <td>0.59</td>\n",
       "      <td>0.25</td>\n",
       "      <td>0.53</td>\n",
       "      <td>0.42</td>\n",
       "      <td>0.63</td>\n",
       "      <td>0.00</td>\n",
       "      <td>0.60</td>\n",
       "      <td>0.49</td>\n",
       "      <td>...</td>\n",
       "      <td>0.21</td>\n",
       "      <td>0.65</td>\n",
       "      <td>0.56</td>\n",
       "      <td>0.82</td>\n",
       "      <td>1.00</td>\n",
       "      <td>0.60</td>\n",
       "      <td>0.47</td>\n",
       "      <td>0.08</td>\n",
       "      <td>-0.08</td>\n",
       "      <td>0.44</td>\n",
       "    </tr>\n",
       "    <tr>\n",
       "      <th>net_con</th>\n",
       "      <td>-0.08</td>\n",
       "      <td>0.13</td>\n",
       "      <td>0.97</td>\n",
       "      <td>0.75</td>\n",
       "      <td>0.96</td>\n",
       "      <td>0.41</td>\n",
       "      <td>0.71</td>\n",
       "      <td>0.46</td>\n",
       "      <td>1.00</td>\n",
       "      <td>0.38</td>\n",
       "      <td>...</td>\n",
       "      <td>0.46</td>\n",
       "      <td>0.28</td>\n",
       "      <td>0.95</td>\n",
       "      <td>0.47</td>\n",
       "      <td>0.60</td>\n",
       "      <td>1.00</td>\n",
       "      <td>0.92</td>\n",
       "      <td>0.08</td>\n",
       "      <td>-0.13</td>\n",
       "      <td>0.40</td>\n",
       "    </tr>\n",
       "    <tr>\n",
       "      <th>net_ope_exp</th>\n",
       "      <td>-0.09</td>\n",
       "      <td>0.09</td>\n",
       "      <td>0.90</td>\n",
       "      <td>0.74</td>\n",
       "      <td>0.90</td>\n",
       "      <td>0.38</td>\n",
       "      <td>0.58</td>\n",
       "      <td>0.47</td>\n",
       "      <td>0.92</td>\n",
       "      <td>0.38</td>\n",
       "      <td>...</td>\n",
       "      <td>0.48</td>\n",
       "      <td>0.13</td>\n",
       "      <td>0.96</td>\n",
       "      <td>0.52</td>\n",
       "      <td>0.47</td>\n",
       "      <td>0.92</td>\n",
       "      <td>1.00</td>\n",
       "      <td>0.34</td>\n",
       "      <td>-0.08</td>\n",
       "      <td>0.28</td>\n",
       "    </tr>\n",
       "    <tr>\n",
       "      <th>deb_owe_by_com</th>\n",
       "      <td>-0.04</td>\n",
       "      <td>-0.02</td>\n",
       "      <td>0.06</td>\n",
       "      <td>0.05</td>\n",
       "      <td>0.06</td>\n",
       "      <td>0.15</td>\n",
       "      <td>-0.01</td>\n",
       "      <td>0.27</td>\n",
       "      <td>0.08</td>\n",
       "      <td>-0.01</td>\n",
       "      <td>...</td>\n",
       "      <td>0.02</td>\n",
       "      <td>0.01</td>\n",
       "      <td>0.33</td>\n",
       "      <td>0.07</td>\n",
       "      <td>0.08</td>\n",
       "      <td>0.08</td>\n",
       "      <td>0.34</td>\n",
       "      <td>1.00</td>\n",
       "      <td>0.99</td>\n",
       "      <td>0.05</td>\n",
       "    </tr>\n",
       "    <tr>\n",
       "      <th>deb_owe_to_com</th>\n",
       "      <td>-0.00</td>\n",
       "      <td>-0.04</td>\n",
       "      <td>-0.11</td>\n",
       "      <td>-0.12</td>\n",
       "      <td>-0.11</td>\n",
       "      <td>-0.19</td>\n",
       "      <td>0.11</td>\n",
       "      <td>0.95</td>\n",
       "      <td>-0.13</td>\n",
       "      <td>-1.00</td>\n",
       "      <td>...</td>\n",
       "      <td>-0.33</td>\n",
       "      <td>-0.00</td>\n",
       "      <td>-0.06</td>\n",
       "      <td>-0.01</td>\n",
       "      <td>-0.08</td>\n",
       "      <td>-0.13</td>\n",
       "      <td>-0.08</td>\n",
       "      <td>0.99</td>\n",
       "      <td>1.00</td>\n",
       "      <td>-0.20</td>\n",
       "    </tr>\n",
       "    <tr>\n",
       "      <th>winner</th>\n",
       "      <td>0.04</td>\n",
       "      <td>0.29</td>\n",
       "      <td>0.29</td>\n",
       "      <td>0.11</td>\n",
       "      <td>0.27</td>\n",
       "      <td>0.05</td>\n",
       "      <td>0.60</td>\n",
       "      <td>0.03</td>\n",
       "      <td>0.39</td>\n",
       "      <td>0.02</td>\n",
       "      <td>...</td>\n",
       "      <td>-0.10</td>\n",
       "      <td>0.25</td>\n",
       "      <td>0.33</td>\n",
       "      <td>0.21</td>\n",
       "      <td>0.44</td>\n",
       "      <td>0.40</td>\n",
       "      <td>0.28</td>\n",
       "      <td>0.05</td>\n",
       "      <td>-0.20</td>\n",
       "      <td>1.00</td>\n",
       "    </tr>\n",
       "  </tbody>\n",
       "</table>\n",
       "<p>34 rows × 34 columns</p>\n",
       "</div>"
      ],
      "text/plain": [
       "                       can_off_dis  can_zip  ind_ite_con  ind_uni_con  \\\n",
       "can_off_dis                   1.00     0.06        -0.10        -0.09   \n",
       "can_zip                       0.06     1.00         0.08         0.00   \n",
       "ind_ite_con                  -0.10     0.08         1.00         0.71   \n",
       "ind_uni_con                  -0.09     0.00         0.71         1.00   \n",
       "ind_con                      -0.10     0.06         0.98         0.83   \n",
       "par_com_con                  -0.12     0.05         0.40         0.31   \n",
       "oth_com_con                  -0.05     0.30         0.60         0.25   \n",
       "can_con                       0.01    -0.01         0.04        -0.02   \n",
       "tot_con                      -0.08     0.13         0.98         0.75   \n",
       "tra_fro_oth_aut_com          -0.13     0.07         0.40         0.20   \n",
       "can_loa                      -0.03     0.00         0.11         0.03   \n",
       "oth_loa                      -0.13    -0.04         0.24         0.51   \n",
       "tot_loa                      -0.04    -0.00         0.11         0.04   \n",
       "off_to_ope_exp               -0.03     0.08         0.30         0.21   \n",
       "oth_rec                      -0.02     0.02         0.32         0.08   \n",
       "tot_rec                      -0.09     0.13         0.95         0.71   \n",
       "ope_exp                      -0.09     0.10         0.92         0.71   \n",
       "tra_to_oth_aut_com           -0.12     0.12        -0.04        -0.02   \n",
       "can_loa_rep                  -0.06     0.05         0.08         0.09   \n",
       "oth_loa_rep                   0.13     0.20         0.43        -0.03   \n",
       "tot_loa_rep                  -0.05     0.05         0.09         0.08   \n",
       "ind_ref                      -0.13    -0.04         0.50         0.37   \n",
       "par_com_ref                  -0.25    -0.14         0.45         0.43   \n",
       "oth_com_ref                  -0.13     0.03         0.28         0.10   \n",
       "tot_con_ref                  -0.13    -0.03         0.52         0.37   \n",
       "oth_dis                      -0.02     0.12         0.27         0.02   \n",
       "tot_dis                      -0.09     0.12         0.93         0.70   \n",
       "cas_on_han_beg_of_per        -0.07     0.08         0.46         0.19   \n",
       "cas_on_han_clo_of_per        -0.04     0.16         0.59         0.25   \n",
       "net_con                      -0.08     0.13         0.97         0.75   \n",
       "net_ope_exp                  -0.09     0.09         0.90         0.74   \n",
       "deb_owe_by_com               -0.04    -0.02         0.06         0.05   \n",
       "deb_owe_to_com               -0.00    -0.04        -0.11        -0.12   \n",
       "winner                        0.04     0.29         0.29         0.11   \n",
       "\n",
       "                       ind_con  par_com_con  oth_com_con  can_con  tot_con  \\\n",
       "can_off_dis              -0.10        -0.12        -0.05     0.01    -0.08   \n",
       "can_zip                   0.06         0.05         0.30    -0.01     0.13   \n",
       "ind_ite_con               0.98         0.40         0.60     0.04     0.98   \n",
       "ind_uni_con               0.83         0.31         0.25    -0.02     0.75   \n",
       "ind_con                   1.00         0.39         0.54    -0.00     0.96   \n",
       "par_com_con               0.39         1.00         0.34    -0.02     0.41   \n",
       "oth_com_con               0.54         0.34         1.00    -0.02     0.71   \n",
       "can_con                  -0.00        -0.02        -0.02     1.00     0.46   \n",
       "tot_con                   0.96         0.41         0.71     0.46     1.00   \n",
       "tra_fro_oth_aut_com       0.37         0.60         0.27    -0.09     0.38   \n",
       "can_loa                   0.09         0.08         0.01     0.31     0.16   \n",
       "oth_loa                   0.32        -0.24        -0.05     0.05     0.27   \n",
       "tot_loa                   0.10         0.08         0.01     0.30     0.15   \n",
       "off_to_ope_exp            0.30         0.41         0.35     0.00     0.34   \n",
       "oth_rec                   0.28         0.12         0.23    -0.02     0.28   \n",
       "tot_rec                   0.94         0.41         0.68     0.43     0.97   \n",
       "ope_exp                   0.91         0.39         0.62     0.47     0.94   \n",
       "tra_to_oth_aut_com       -0.04         0.29         0.08    -0.06    -0.00   \n",
       "can_loa_rep               0.09        -0.06         0.07     0.23     0.09   \n",
       "oth_loa_rep               0.39        -0.70        -0.06     0.99     0.41   \n",
       "tot_loa_rep               0.09        -0.06         0.06     0.30     0.09   \n",
       "ind_ref                   0.50         0.21         0.14    -0.01     0.46   \n",
       "par_com_ref               0.45         0.78         0.30     0.22     0.45   \n",
       "oth_com_ref               0.25         0.25         0.23    -0.09     0.27   \n",
       "tot_con_ref               0.51         0.23         0.17    -0.01     0.48   \n",
       "oth_dis                   0.22         0.02         0.39    -0.02     0.28   \n",
       "tot_dis                   0.91         0.39         0.65     0.47     0.95   \n",
       "cas_on_han_beg_of_per     0.44         0.28         0.42     0.05     0.47   \n",
       "cas_on_han_clo_of_per     0.53         0.42         0.63     0.00     0.60   \n",
       "net_con                   0.96         0.41         0.71     0.46     1.00   \n",
       "net_ope_exp               0.90         0.38         0.58     0.47     0.92   \n",
       "deb_owe_by_com            0.06         0.15        -0.01     0.27     0.08   \n",
       "deb_owe_to_com           -0.11        -0.19         0.11     0.95    -0.13   \n",
       "winner                    0.27         0.05         0.60     0.03     0.39   \n",
       "\n",
       "                       tra_fro_oth_aut_com  ...  tot_con_ref  oth_dis  \\\n",
       "can_off_dis                          -0.13  ...        -0.13    -0.02   \n",
       "can_zip                               0.07  ...        -0.03     0.12   \n",
       "ind_ite_con                           0.40  ...         0.52     0.27   \n",
       "ind_uni_con                           0.20  ...         0.37     0.02   \n",
       "ind_con                               0.37  ...         0.51     0.22   \n",
       "par_com_con                           0.60  ...         0.23     0.02   \n",
       "oth_com_con                           0.27  ...         0.17     0.39   \n",
       "can_con                              -0.09  ...        -0.01    -0.02   \n",
       "tot_con                               0.38  ...         0.48     0.28   \n",
       "tra_fro_oth_aut_com                   1.00  ...         0.19     0.66   \n",
       "can_loa                               0.11  ...         0.03     0.05   \n",
       "oth_loa                                nan  ...         0.08    -0.12   \n",
       "tot_loa                               0.11  ...         0.02     0.05   \n",
       "off_to_ope_exp                        0.08  ...         0.20     0.12   \n",
       "oth_rec                               0.02  ...         0.16     0.31   \n",
       "tot_rec                               0.56  ...         0.47     0.35   \n",
       "ope_exp                               0.39  ...         0.48     0.14   \n",
       "tra_to_oth_aut_com                    0.14  ...        -0.05    -0.01   \n",
       "can_loa_rep                           0.25  ...         0.06     0.14   \n",
       "oth_loa_rep                            nan  ...         0.44    -0.16   \n",
       "tot_loa_rep                           0.25  ...         0.05     0.11   \n",
       "ind_ref                               0.20  ...         0.99     0.09   \n",
       "par_com_ref                           0.09  ...         0.54    -0.09   \n",
       "oth_com_ref                           0.03  ...         0.46     0.08   \n",
       "tot_con_ref                           0.19  ...         1.00     0.10   \n",
       "oth_dis                               0.66  ...         0.10     1.00   \n",
       "tot_dis                               0.48  ...         0.50     0.28   \n",
       "cas_on_han_beg_of_per                 0.17  ...         0.25     0.42   \n",
       "cas_on_han_clo_of_per                 0.49  ...         0.21     0.65   \n",
       "net_con                               0.38  ...         0.46     0.28   \n",
       "net_ope_exp                           0.38  ...         0.48     0.13   \n",
       "deb_owe_by_com                       -0.01  ...         0.02     0.01   \n",
       "deb_owe_to_com                       -1.00  ...        -0.33    -0.00   \n",
       "winner                                0.02  ...        -0.10     0.25   \n",
       "\n",
       "                       tot_dis  cas_on_han_beg_of_per  cas_on_han_clo_of_per  \\\n",
       "can_off_dis              -0.09                  -0.07                  -0.04   \n",
       "can_zip                   0.12                   0.08                   0.16   \n",
       "ind_ite_con               0.93                   0.46                   0.59   \n",
       "ind_uni_con               0.70                   0.19                   0.25   \n",
       "ind_con                   0.91                   0.44                   0.53   \n",
       "par_com_con               0.39                   0.28                   0.42   \n",
       "oth_com_con               0.65                   0.42                   0.63   \n",
       "can_con                   0.47                   0.05                   0.00   \n",
       "tot_con                   0.95                   0.47                   0.60   \n",
       "tra_fro_oth_aut_com       0.48                   0.17                   0.49   \n",
       "can_loa                   0.66                   0.39                   0.21   \n",
       "oth_loa                   0.90                   1.00                   0.82   \n",
       "tot_loa                   0.66                   0.57                   0.23   \n",
       "off_to_ope_exp            0.30                   0.09                   0.23   \n",
       "oth_rec                   0.29                   0.46                   0.47   \n",
       "tot_rec                   0.97                   0.47                   0.61   \n",
       "ope_exp                   0.99                   0.52                   0.49   \n",
       "tra_to_oth_aut_com        0.09                   0.38                   0.07   \n",
       "can_loa_rep               0.21                   0.03                   0.11   \n",
       "oth_loa_rep               0.84                   0.21                   0.24   \n",
       "tot_loa_rep               0.22                   0.02                   0.11   \n",
       "ind_ref                   0.48                   0.23                   0.20   \n",
       "par_com_ref               0.53                   0.56                   0.42   \n",
       "oth_com_ref               0.29                   0.16                   0.12   \n",
       "tot_con_ref               0.50                   0.25                   0.21   \n",
       "oth_dis                   0.28                   0.42                   0.65   \n",
       "tot_dis                   1.00                   0.58                   0.56   \n",
       "cas_on_han_beg_of_per     0.58                   1.00                   0.82   \n",
       "cas_on_han_clo_of_per     0.56                   0.82                   1.00   \n",
       "net_con                   0.95                   0.47                   0.60   \n",
       "net_ope_exp               0.96                   0.52                   0.47   \n",
       "deb_owe_by_com            0.33                   0.07                   0.08   \n",
       "deb_owe_to_com           -0.06                  -0.01                  -0.08   \n",
       "winner                    0.33                   0.21                   0.44   \n",
       "\n",
       "                       net_con  net_ope_exp  deb_owe_by_com  deb_owe_to_com  \\\n",
       "can_off_dis              -0.08        -0.09           -0.04           -0.00   \n",
       "can_zip                   0.13         0.09           -0.02           -0.04   \n",
       "ind_ite_con               0.97         0.90            0.06           -0.11   \n",
       "ind_uni_con               0.75         0.74            0.05           -0.12   \n",
       "ind_con                   0.96         0.90            0.06           -0.11   \n",
       "par_com_con               0.41         0.38            0.15           -0.19   \n",
       "oth_com_con               0.71         0.58           -0.01            0.11   \n",
       "can_con                   0.46         0.47            0.27            0.95   \n",
       "tot_con                   1.00         0.92            0.08           -0.13   \n",
       "tra_fro_oth_aut_com       0.38         0.38           -0.01           -1.00   \n",
       "can_loa                   0.16         0.66            0.93            1.00   \n",
       "oth_loa                   0.27         0.91            0.95             nan   \n",
       "tot_loa                   0.15         0.66            0.92            1.00   \n",
       "off_to_ope_exp            0.33         0.30            0.05            0.16   \n",
       "oth_rec                   0.28         0.23           -0.01            0.87   \n",
       "tot_rec                   0.97         0.93            0.32           -0.08   \n",
       "ope_exp                   0.94         0.98            0.34           -0.08   \n",
       "tra_to_oth_aut_com       -0.00         0.01            0.08            0.19   \n",
       "can_loa_rep               0.08         0.10            0.36             nan   \n",
       "oth_loa_rep               0.41         0.85            0.93             nan   \n",
       "tot_loa_rep               0.09         0.12            0.37             nan   \n",
       "ind_ref                   0.44         0.46            0.02           -0.30   \n",
       "par_com_ref               0.45         0.53            0.93             nan   \n",
       "oth_com_ref               0.26         0.24           -0.02           -1.00   \n",
       "tot_con_ref               0.46         0.48            0.02           -0.33   \n",
       "oth_dis                   0.28         0.13            0.01           -0.00   \n",
       "tot_dis                   0.95         0.96            0.33           -0.06   \n",
       "cas_on_han_beg_of_per     0.47         0.52            0.07           -0.01   \n",
       "cas_on_han_clo_of_per     0.60         0.47            0.08           -0.08   \n",
       "net_con                   1.00         0.92            0.08           -0.13   \n",
       "net_ope_exp               0.92         1.00            0.34           -0.08   \n",
       "deb_owe_by_com            0.08         0.34            1.00            0.99   \n",
       "deb_owe_to_com           -0.13        -0.08            0.99            1.00   \n",
       "winner                    0.40         0.28            0.05           -0.20   \n",
       "\n",
       "                       winner  \n",
       "can_off_dis              0.04  \n",
       "can_zip                  0.29  \n",
       "ind_ite_con              0.29  \n",
       "ind_uni_con              0.11  \n",
       "ind_con                  0.27  \n",
       "par_com_con              0.05  \n",
       "oth_com_con              0.60  \n",
       "can_con                  0.03  \n",
       "tot_con                  0.39  \n",
       "tra_fro_oth_aut_com      0.02  \n",
       "can_loa                  0.09  \n",
       "oth_loa                  0.10  \n",
       "tot_loa                  0.09  \n",
       "off_to_ope_exp           0.14  \n",
       "oth_rec                  0.12  \n",
       "tot_rec                  0.37  \n",
       "ope_exp                  0.29  \n",
       "tra_to_oth_aut_com       0.24  \n",
       "can_loa_rep              0.11  \n",
       "oth_loa_rep              0.26  \n",
       "tot_loa_rep              0.12  \n",
       "ind_ref                 -0.10  \n",
       "par_com_ref              0.35  \n",
       "oth_com_ref             -0.12  \n",
       "tot_con_ref             -0.10  \n",
       "oth_dis                  0.25  \n",
       "tot_dis                  0.33  \n",
       "cas_on_han_beg_of_per    0.21  \n",
       "cas_on_han_clo_of_per    0.44  \n",
       "net_con                  0.40  \n",
       "net_ope_exp              0.28  \n",
       "deb_owe_by_com           0.05  \n",
       "deb_owe_to_com          -0.20  \n",
       "winner                   1.00  \n",
       "\n",
       "[34 rows x 34 columns]"
      ]
     },
     "execution_count": 19,
     "metadata": {},
     "output_type": "execute_result"
    }
   ],
   "source": [
    "# Correlation\n",
    "df.corr()"
   ]
  },
  {
   "cell_type": "code",
   "execution_count": 20,
   "metadata": {
    "scrolled": true
   },
   "outputs": [
    {
     "data": {
      "text/plain": [
       "winner                  1.00\n",
       "oth_com_con             0.60\n",
       "cas_on_han_clo_of_per   0.44\n",
       "net_con                 0.40\n",
       "tot_con                 0.39\n",
       "tot_rec                 0.37\n",
       "par_com_ref             0.35\n",
       "tot_dis                 0.33\n",
       "ope_exp                 0.29\n",
       "can_zip                 0.29\n",
       "ind_ite_con             0.29\n",
       "net_ope_exp             0.28\n",
       "ind_con                 0.27\n",
       "oth_loa_rep             0.26\n",
       "oth_dis                 0.25\n",
       "tra_to_oth_aut_com      0.24\n",
       "cas_on_han_beg_of_per   0.21\n",
       "deb_owe_to_com          0.20\n",
       "off_to_ope_exp          0.14\n",
       "oth_com_ref             0.12\n",
       "tot_loa_rep             0.12\n",
       "oth_rec                 0.12\n",
       "can_loa_rep             0.11\n",
       "ind_uni_con             0.11\n",
       "ind_ref                 0.10\n",
       "oth_loa                 0.10\n",
       "tot_con_ref             0.10\n",
       "tot_loa                 0.09\n",
       "can_loa                 0.09\n",
       "par_com_con             0.05\n",
       "deb_owe_by_com          0.05\n",
       "can_off_dis             0.04\n",
       "can_con                 0.03\n",
       "tra_fro_oth_aut_com     0.02\n",
       "Name: winner, dtype: float64"
      ]
     },
     "execution_count": 20,
     "metadata": {},
     "output_type": "execute_result"
    }
   ],
   "source": [
    "# Correlation to with 'winner' column  \n",
    "correlations = df.corr()['winner'].map(abs).sort_values(ascending=False)\n",
    "correlations"
   ]
  },
  {
   "cell_type": "code",
   "execution_count": 21,
   "metadata": {
    "scrolled": false
   },
   "outputs": [
    {
     "data": {
      "image/png": "[encoded data removed]",
      "text/plain": [
       "<Figure size 432x288 with 1 Axes>"
      ]
     },
     "metadata": {},
     "output_type": "display_data"
    }
   ],
   "source": [
    "sns.histplot(df, x=\"winner\")\n",
    "plt.title('Winners vs. Losers');"
   ]
  },
  {
   "cell_type": "code",
   "execution_count": 22,
   "metadata": {},
   "outputs": [
    {
     "data": {
      "image/png": "[encoded data removed]",
      "text/plain": [
       "<Figure size 432x288 with 1 Axes>"
      ]
     },
     "metadata": {},
     "output_type": "display_data"
    }
   ],
   "source": [
    "sns.set_theme(style='darkgrid')\n",
    "ax = sns.boxplot(x=df['ind_con'])\n",
    "plt.title('Individual Contributions');"
   ]
  },
  {
   "cell_type": "code",
   "execution_count": 23,
   "metadata": {},
   "outputs": [
    {
     "data": {
      "image/png": "[encoded data removed]",
      "text/plain": [
       "<Figure size 432x288 with 1 Axes>"
      ]
     },
     "metadata": {},
     "output_type": "display_data"
    }
   ],
   "source": [
    "sns.set_theme(style='darkgrid')\n",
    "ax = sns.boxplot(x=df['par_com_con'])\n",
    "plt.title('Party Committee Contributions');"
   ]
  },
  {
   "cell_type": "code",
   "execution_count": 24,
   "metadata": {},
   "outputs": [
    {
     "data": {
      "image/png": "[encoded data removed]",
      "text/plain": [
       "<Figure size 432x288 with 1 Axes>"
      ]
     },
     "metadata": {},
     "output_type": "display_data"
    }
   ],
   "source": [
    "sns.set_theme(style='darkgrid')\n",
    "ax = sns.boxplot(x=df['oth_com_con'])\n",
    "plt.title('Other Committee Contributions');"
   ]
  },
  {
   "cell_type": "code",
   "execution_count": 25,
   "metadata": {},
   "outputs": [
    {
     "data": {
      "image/png": "[encoded data removed]",
      "text/plain": [
       "<Figure size 432x288 with 1 Axes>"
      ]
     },
     "metadata": {},
     "output_type": "display_data"
    }
   ],
   "source": [
    "sns.set_theme(style='darkgrid')\n",
    "ax = sns.boxplot(x=df['tot_con'])\n",
    "plt.title('Total_Contributions');"
   ]
  },
  {
   "cell_type": "code",
   "execution_count": 26,
   "metadata": {},
   "outputs": [
    {
     "data": {
      "image/png": "[encoded data removed]",
      "text/plain": [
       "<Figure size 432x288 with 1 Axes>"
      ]
     },
     "metadata": {},
     "output_type": "display_data"
    }
   ],
   "source": [
    "sns.set_theme(style='darkgrid')\n",
    "ax = sns.boxplot(x=df['net_con'])\n",
    "plt.title('Net Contributions');"
   ]
  },
  {
   "cell_type": "code",
   "execution_count": 27,
   "metadata": {},
   "outputs": [
    {
     "data": {
      "image/png": "[encoded data removed]",
      "text/plain": [
       "<Figure size 432x288 with 1 Axes>"
      ]
     },
     "metadata": {},
     "output_type": "display_data"
    }
   ],
   "source": [
    "sns.set_theme(style='darkgrid')\n",
    "ax = sns.boxplot(x=df['net_ope_exp'])\n",
    "plt.title('Net Operating Expenditure');"
   ]
  },
  {
   "cell_type": "code",
   "execution_count": 28,
   "metadata": {},
   "outputs": [
    {
     "data": {
      "image/png": "[encoded data removed]",
      "text/plain": [
       "<Figure size 1080x1080 with 2 Axes>"
      ]
     },
     "metadata": {},
     "output_type": "display_data"
    }
   ],
   "source": [
    "corr = df.corr()\n",
    "\n",
    "fig, ax = plt.subplots(figsize=(15, 15))\n",
    "sns.heatmap(corr, xticklabels=corr.columns,\n",
    "            yticklabels=corr.columns,\n",
    "            annot=False, cmap='Blues', center= 0, ax=ax)\n",
    "plt.title('Degrees of Correlation in dataset');"
   ]
  },
  {
   "cell_type": "markdown",
   "metadata": {},
   "source": [
    "# Step 4 - Modelling"
   ]
  },
  {
   "cell_type": "markdown",
   "metadata": {},
   "source": [
    "**Run Base Model**"
   ]
  },
  {
   "cell_type": "code",
   "execution_count": 29,
   "metadata": {},
   "outputs": [
    {
     "data": {
      "text/plain": [
       "0.716183574879227"
      ]
     },
     "execution_count": 29,
     "metadata": {},
     "output_type": "execute_result"
    }
   ],
   "source": [
    "# Run dummy classifier to get baseline prediction\n",
    "from sklearn.dummy import DummyClassifier\n",
    "X = df.drop('winner', axis=1)\n",
    "y = df['winner']\n",
    "dummy_clf = DummyClassifier(strategy=\"most_frequent\")\n",
    "dummy_clf.fit(X, y)\n",
    "DummyClassifier(strategy='most_frequent')\n",
    "dummy_clf.predict(X)\n",
    "dummy_clf.score(X, y)"
   ]
  },
  {
   "cell_type": "markdown",
   "metadata": {},
   "source": [
    "**Data Preprocessing**"
   ]
  },
  {
   "cell_type": "code",
   "execution_count": 30,
   "metadata": {},
   "outputs": [],
   "source": [
    "# Create matrix of features\n",
    "X = df.drop('winner', axis = 1) # grabs everything else but 'winner'\n",
    "\n",
    "# Create target variable\n",
    "y = df['winner'] # y is the column we're trying to predict\n",
    "\n",
    "# Create a list of the features to be used in the model\n",
    "feature_cols = X.columns"
   ]
  },
  {
   "cell_type": "code",
   "execution_count": 31,
   "metadata": {},
   "outputs": [],
   "source": [
    "# Use x and y variables to split the training data into train and test set then scale that data\n",
    "X_train, X_test, y_train, y_test = train_test_split(X, y, random_state=1)"
   ]
  },
  {
   "cell_type": "code",
   "execution_count": 32,
   "metadata": {
    "scrolled": true
   },
   "outputs": [
    {
     "name": "stdout",
     "output_type": "stream",
     "text": [
      "<class 'pandas.core.frame.DataFrame'>\n",
      "Int64Index: 1242 entries, 1149 to 1061\n",
      "Data columns (total 36 columns):\n",
      " #   Column                 Non-Null Count  Dtype  \n",
      "---  ------                 --------------  -----  \n",
      " 0   can_off                1242 non-null   object \n",
      " 1   can_off_dis            1240 non-null   float64\n",
      " 2   can_par_aff            1242 non-null   object \n",
      " 3   can_inc_cha_ope_sea    1240 non-null   object \n",
      " 4   can_zip                1229 non-null   float64\n",
      " 5   ind_ite_con            1134 non-null   float64\n",
      " 6   ind_uni_con            1113 non-null   float64\n",
      " 7   ind_con                1160 non-null   float64\n",
      " 8   par_com_con            280 non-null    float64\n",
      " 9   oth_com_con            742 non-null    float64\n",
      " 10  can_con                472 non-null    float64\n",
      " 11  tot_con                1200 non-null   float64\n",
      " 12  tra_fro_oth_aut_com    189 non-null    float64\n",
      " 13  can_loa                448 non-null    float64\n",
      " 14  oth_loa                43 non-null     float64\n",
      " 15  tot_loa                466 non-null    float64\n",
      " 16  off_to_ope_exp         556 non-null    float64\n",
      " 17  oth_rec                381 non-null    float64\n",
      " 18  tot_rec                1214 non-null   float64\n",
      " 19  ope_exp                1206 non-null   float64\n",
      " 20  tra_to_oth_aut_com     112 non-null    float64\n",
      " 21  can_loa_rep            221 non-null    float64\n",
      " 22  oth_loa_rep            18 non-null     float64\n",
      " 23  tot_loa_rep            229 non-null    float64\n",
      " 24  ind_ref                605 non-null    float64\n",
      " 25  par_com_ref            14 non-null     float64\n",
      " 26  oth_com_ref            265 non-null    float64\n",
      " 27  tot_con_ref            636 non-null    float64\n",
      " 28  oth_dis                574 non-null    float64\n",
      " 29  tot_dis                1212 non-null   float64\n",
      " 30  cas_on_han_beg_of_per  498 non-null    float64\n",
      " 31  cas_on_han_clo_of_per  1018 non-null   float64\n",
      " 32  net_con                1188 non-null   float64\n",
      " 33  net_ope_exp            1196 non-null   float64\n",
      " 34  deb_owe_by_com         520 non-null    float64\n",
      " 35  deb_owe_to_com         12 non-null     float64\n",
      "dtypes: float64(33), object(3)\n",
      "memory usage: 359.0+ KB\n"
     ]
    }
   ],
   "source": [
    "X_train.info()"
   ]
  },
  {
   "cell_type": "code",
   "execution_count": 33,
   "metadata": {},
   "outputs": [
    {
     "data": {
      "text/plain": [
       "['can_off', 'can_par_aff', 'can_inc_cha_ope_sea']"
      ]
     },
     "execution_count": 33,
     "metadata": {},
     "output_type": "execute_result"
    }
   ],
   "source": [
    "# Define categorical columns\n",
    "cat_cols = [col for col in X_train.columns if X_train[col].dtypes not in ['float64', 'int64']]\n",
    "cat_cols"
   ]
  },
  {
   "cell_type": "code",
   "execution_count": 34,
   "metadata": {
    "scrolled": true
   },
   "outputs": [
    {
     "data": {
      "text/plain": [
       "['can_off_dis',\n",
       " 'can_zip',\n",
       " 'ind_ite_con',\n",
       " 'ind_uni_con',\n",
       " 'ind_con',\n",
       " 'par_com_con',\n",
       " 'oth_com_con',\n",
       " 'can_con',\n",
       " 'tot_con',\n",
       " 'tra_fro_oth_aut_com',\n",
       " 'can_loa',\n",
       " 'oth_loa',\n",
       " 'tot_loa',\n",
       " 'off_to_ope_exp',\n",
       " 'oth_rec',\n",
       " 'tot_rec',\n",
       " 'ope_exp',\n",
       " 'tra_to_oth_aut_com',\n",
       " 'can_loa_rep',\n",
       " 'oth_loa_rep',\n",
       " 'tot_loa_rep',\n",
       " 'ind_ref',\n",
       " 'par_com_ref',\n",
       " 'oth_com_ref',\n",
       " 'tot_con_ref',\n",
       " 'oth_dis',\n",
       " 'tot_dis',\n",
       " 'cas_on_han_beg_of_per',\n",
       " 'cas_on_han_clo_of_per',\n",
       " 'net_con',\n",
       " 'net_ope_exp',\n",
       " 'deb_owe_by_com',\n",
       " 'deb_owe_to_com']"
      ]
     },
     "execution_count": 34,
     "metadata": {},
     "output_type": "execute_result"
    }
   ],
   "source": [
    "# Define numerical colummns\n",
    "num_cols = [col for col in X_train.columns if col not in cat_cols]\n",
    "num_cols"
   ]
  },
  {
   "cell_type": "code",
   "execution_count": 35,
   "metadata": {},
   "outputs": [],
   "source": [
    "# Create pipelines for categorical and numerical columns\n",
    "cat_pipe = Pipeline(steps=[\n",
    "    ('simp', SimpleImputer(strategy = 'constant', fill_value='N/A')),\n",
    "    ('ohe', OneHotEncoder(handle_unknown='ignore', sparse=False))\n",
    "])\n",
    "\n",
    "num_pipe = Pipeline(steps=[\n",
    "    ('simp', SimpleImputer(strategy = 'constant', fill_value=0)),\n",
    "    ('scaler', StandardScaler())\n",
    "])"
   ]
  },
  {
   "cell_type": "code",
   "execution_count": 36,
   "metadata": {},
   "outputs": [
    {
     "data": {
      "text/plain": [
       "array([[ 4.25705408, -0.2948057 , -0.37655433, ..., -0.36932788,\n",
       "        -0.23045181, -0.04042312],\n",
       "       [-0.06095744, -0.29516778, -0.37106403, ..., -0.24928028,\n",
       "         2.59545613, -0.04042312],\n",
       "       [-0.54073649, -0.29508446, -0.16771129, ..., -0.06048513,\n",
       "        -0.10616699, -0.04042312],\n",
       "       ...,\n",
       "       [ 4.06514245, -0.2948059 , -0.37657564, ..., -0.36176967,\n",
       "        -0.11238575, -0.04042312],\n",
       "       [-0.73264812, -0.29526124,  1.60967676, ...,  0.97763177,\n",
       "        -0.23045181, -0.04042312],\n",
       "       [-0.44478068, -0.29511793, -0.37636251, ..., -0.36609941,\n",
       "        -0.19881568, -0.04042312]])"
      ]
     },
     "execution_count": 36,
     "metadata": {},
     "output_type": "execute_result"
    }
   ],
   "source": [
    "# Fit and transform training data in numerical columns\n",
    "num_pipe.fit_transform(X_train[num_cols])"
   ]
  },
  {
   "cell_type": "code",
   "execution_count": 37,
   "metadata": {},
   "outputs": [],
   "source": [
    "# Run ColumnTransformer on a list of tuples containing the names of our pipelines, the actual pipelines and the target columns\n",
    "preprocess = ColumnTransformer(transformers=[\n",
    "    ('cat_cleaning', cat_pipe, cat_cols),\n",
    "    ('num_cleaning', num_pipe, num_cols)\n",
    "])"
   ]
  },
  {
   "cell_type": "code",
   "execution_count": 38,
   "metadata": {},
   "outputs": [],
   "source": [
    "# Create our new dataframe\n",
    "df2 = pd.DataFrame(preprocess.fit_transform(X_train))"
   ]
  },
  {
   "cell_type": "markdown",
   "metadata": {},
   "source": [
    "**Logistic Regression Pipeline**"
   ]
  },
  {
   "cell_type": "code",
   "execution_count": 39,
   "metadata": {},
   "outputs": [],
   "source": [
    "# Create pipeline for logistic regression model\n",
    "lr_pipe_model = Pipeline(steps=[\n",
    "    ('preprocess', preprocess),\n",
    "    ('lr', LogisticRegression())\n",
    "])"
   ]
  },
  {
   "cell_type": "code",
   "execution_count": 40,
   "metadata": {},
   "outputs": [],
   "source": [
    "# Define gridsearch parameters\n",
    "lr_param_grid = {\n",
    "    'lr__max_iter': [100, 200, 300],\n",
    "    'lr__solver': ['lbfgs', 'newton-cg', 'liblinear', 'sag', 'saga'],\n",
    "}"
   ]
  },
  {
   "cell_type": "code",
   "execution_count": 41,
   "metadata": {},
   "outputs": [],
   "source": [
    "# Combine logistic regression pipeline with gridsearch\n",
    "lr_grid = GridSearchCV(lr_pipe_model, lr_param_grid, scoring='f1')"
   ]
  },
  {
   "cell_type": "code",
   "execution_count": 42,
   "metadata": {},
   "outputs": [
    {
     "data": {
      "text/plain": [
       "GridSearchCV(estimator=Pipeline(steps=[('preprocess',\n",
       "                                        ColumnTransformer(transformers=[('cat_cleaning',\n",
       "                                                                         Pipeline(steps=[('simp',\n",
       "                                                                                          SimpleImputer(fill_value='N/A',\n",
       "                                                                                                        strategy='constant')),\n",
       "                                                                                         ('ohe',\n",
       "                                                                                          OneHotEncoder(handle_unknown='ignore',\n",
       "                                                                                                        sparse=False))]),\n",
       "                                                                         ['can_off',\n",
       "                                                                          'can_par_aff',\n",
       "                                                                          'can_inc_cha_ope_sea']),\n",
       "                                                                        ('num_cleaning',\n",
       "                                                                         Pipeline(steps=[('simp',\n",
       "                                                                                          SimpleImputer(fill_va...\n",
       "                                                                          'ope_exp',\n",
       "                                                                          'tra_to_oth_aut_com',\n",
       "                                                                          'can_loa_rep',\n",
       "                                                                          'oth_loa_rep',\n",
       "                                                                          'tot_loa_rep',\n",
       "                                                                          'ind_ref',\n",
       "                                                                          'par_com_ref',\n",
       "                                                                          'oth_com_ref',\n",
       "                                                                          'tot_con_ref',\n",
       "                                                                          'oth_dis',\n",
       "                                                                          'tot_dis',\n",
       "                                                                          'cas_on_han_beg_of_per',\n",
       "                                                                          'cas_on_han_clo_of_per',\n",
       "                                                                          'net_con', ...])])),\n",
       "                                       ('lr', LogisticRegression())]),\n",
       "             param_grid={'lr__max_iter': [100, 200, 300],\n",
       "                         'lr__solver': ['lbfgs', 'newton-cg', 'liblinear',\n",
       "                                        'sag', 'saga']},\n",
       "             scoring='f1')"
      ]
     },
     "execution_count": 42,
     "metadata": {},
     "output_type": "execute_result"
    }
   ],
   "source": [
    "# Fit pipeline with gridsearch \n",
    "lr_grid.fit(X_train, y_train)"
   ]
  },
  {
   "cell_type": "code",
   "execution_count": 43,
   "metadata": {},
   "outputs": [
    {
     "data": {
      "text/plain": [
       "{'lr__max_iter': 100, 'lr__solver': 'sag'}"
      ]
     },
     "execution_count": 43,
     "metadata": {},
     "output_type": "execute_result"
    }
   ],
   "source": [
    "# Display best parameters\n",
    "lr_grid.best_params_"
   ]
  },
  {
   "cell_type": "code",
   "execution_count": 44,
   "metadata": {},
   "outputs": [],
   "source": [
    "# Create function to evaluate model, display confusion matrix and plot ROC curve\n",
    "def evaluate_model(model, X, y):\n",
    "    y_pred = model.predict(X)\n",
    "    \n",
    "    print(classification_report(y, y_pred))\n",
    "    \n",
    "    fig, axes=plt.subplots(ncols=2, figsize=(10,4))\n",
    "    \n",
    "    plot_confusion_matrix(model, X, y, cmap='Blues', normalize='true', ax=axes[0])\n",
    "    \n",
    "    plot_roc_curve(model, X, y, ax=axes[1])\n",
    "    \n",
    "    axes[0].set_title('Confusion Matrix')\n",
    "    axes[1].set_title('ROC Curve')\n",
    "\n",
    "    # Setting threshold line\n",
    "    axes[1].plot([0,1],[0,1], ls=':')\n",
    "    plt.tight_layout()"
   ]
  },
  {
   "cell_type": "code",
   "execution_count": 45,
   "metadata": {
    "scrolled": false
   },
   "outputs": [
    {
     "name": "stdout",
     "output_type": "stream",
     "text": [
      "              precision    recall  f1-score   support\n",
      "\n",
      "           0       0.96      0.98      0.97       888\n",
      "           1       0.96      0.89      0.92       354\n",
      "\n",
      "    accuracy                           0.96      1242\n",
      "   macro avg       0.96      0.94      0.95      1242\n",
      "weighted avg       0.96      0.96      0.96      1242\n",
      "\n"
     ]
    },
    {
     "data": {
      "image/png": "[encoded data removed]",
      "text/plain": [
       "<Figure size 720x288 with 3 Axes>"
      ]
     },
     "metadata": {},
     "output_type": "display_data"
    }
   ],
   "source": [
    "# Run function on training data\n",
    "evaluate_model(lr_grid.best_estimator_, X_train, y_train)"
   ]
  },
  {
   "cell_type": "code",
   "execution_count": 46,
   "metadata": {},
   "outputs": [
    {
     "name": "stdout",
     "output_type": "stream",
     "text": [
      "              precision    recall  f1-score   support\n",
      "\n",
      "           0       0.97      0.96      0.96       298\n",
      "           1       0.89      0.91      0.90       116\n",
      "\n",
      "    accuracy                           0.94       414\n",
      "   macro avg       0.93      0.94      0.93       414\n",
      "weighted avg       0.94      0.94      0.94       414\n",
      "\n"
     ]
    },
    {
     "data": {
      "image/png": "[encoded data removed]",
      "text/plain": [
       "<Figure size 720x288 with 3 Axes>"
      ]
     },
     "metadata": {},
     "output_type": "display_data"
    }
   ],
   "source": [
    "# Run function on test data\n",
    "evaluate_model(lr_grid.best_estimator_, X_test, y_test)"
   ]
  },
  {
   "cell_type": "markdown",
   "metadata": {},
   "source": [
    "**RandomForest Pipeline**"
   ]
  },
  {
   "cell_type": "code",
   "execution_count": 47,
   "metadata": {},
   "outputs": [],
   "source": [
    "# Create pipeline for RandomForest\n",
    "rf_pipe_model = Pipeline(steps=[\n",
    "    ('preprocess', preprocess),\n",
    "    ('rf', RandomForestClassifier())\n",
    "])"
   ]
  },
  {
   "cell_type": "code",
   "execution_count": 48,
   "metadata": {},
   "outputs": [],
   "source": [
    "# Define gridsearch parameters\n",
    "rf_param_grid = {\n",
    "    'rf__n_estimators': [50, 150, 250],\n",
    "    'rf__max_features': ['sqrt', 0.25, 0.5, 0.75, 1.0],\n",
    "    'rf__min_samples_split': [2, 4, 6]\n",
    "}"
   ]
  },
  {
   "cell_type": "code",
   "execution_count": 49,
   "metadata": {},
   "outputs": [],
   "source": [
    "# Combine logistic regression pipeline with gridsearch\n",
    "rf_grid = GridSearchCV(rf_pipe_model, rf_param_grid, scoring='f1')"
   ]
  },
  {
   "cell_type": "code",
   "execution_count": 50,
   "metadata": {
    "scrolled": true
   },
   "outputs": [
    {
     "data": {
      "text/plain": [
       "GridSearchCV(estimator=Pipeline(steps=[('preprocess',\n",
       "                                        ColumnTransformer(transformers=[('cat_cleaning',\n",
       "                                                                         Pipeline(steps=[('simp',\n",
       "                                                                                          SimpleImputer(fill_value='N/A',\n",
       "                                                                                                        strategy='constant')),\n",
       "                                                                                         ('ohe',\n",
       "                                                                                          OneHotEncoder(handle_unknown='ignore',\n",
       "                                                                                                        sparse=False))]),\n",
       "                                                                         ['can_off',\n",
       "                                                                          'can_par_aff',\n",
       "                                                                          'can_inc_cha_ope_sea']),\n",
       "                                                                        ('num_cleaning',\n",
       "                                                                         Pipeline(steps=[('simp',\n",
       "                                                                                          SimpleImputer(fill_va...\n",
       "                                                                          'can_loa_rep',\n",
       "                                                                          'oth_loa_rep',\n",
       "                                                                          'tot_loa_rep',\n",
       "                                                                          'ind_ref',\n",
       "                                                                          'par_com_ref',\n",
       "                                                                          'oth_com_ref',\n",
       "                                                                          'tot_con_ref',\n",
       "                                                                          'oth_dis',\n",
       "                                                                          'tot_dis',\n",
       "                                                                          'cas_on_han_beg_of_per',\n",
       "                                                                          'cas_on_han_clo_of_per',\n",
       "                                                                          'net_con', ...])])),\n",
       "                                       ('rf', RandomForestClassifier())]),\n",
       "             param_grid={'rf__max_features': ['sqrt', 0.25, 0.5, 0.75, 1.0],\n",
       "                         'rf__min_samples_split': [2, 4, 6],\n",
       "                         'rf__n_estimators': [50, 150, 250]},\n",
       "             scoring='f1')"
      ]
     },
     "execution_count": 50,
     "metadata": {},
     "output_type": "execute_result"
    }
   ],
   "source": [
    "# Fit pipeline with gridsearch \n",
    "rf_grid.fit(X_train, y_train)"
   ]
  },
  {
   "cell_type": "code",
   "execution_count": 51,
   "metadata": {},
   "outputs": [
    {
     "data": {
      "text/plain": [
       "{'rf__max_features': 'sqrt',\n",
       " 'rf__min_samples_split': 6,\n",
       " 'rf__n_estimators': 250}"
      ]
     },
     "execution_count": 51,
     "metadata": {},
     "output_type": "execute_result"
    }
   ],
   "source": [
    "# Display best parameters\n",
    "rf_grid.best_params_"
   ]
  },
  {
   "cell_type": "code",
   "execution_count": 52,
   "metadata": {},
   "outputs": [
    {
     "name": "stdout",
     "output_type": "stream",
     "text": [
      "              precision    recall  f1-score   support\n",
      "\n",
      "           0       1.00      1.00      1.00       888\n",
      "           1       1.00      0.99      1.00       354\n",
      "\n",
      "    accuracy                           1.00      1242\n",
      "   macro avg       1.00      1.00      1.00      1242\n",
      "weighted avg       1.00      1.00      1.00      1242\n",
      "\n"
     ]
    },
    {
     "data": {
      "image/png": "[encoded data removed]",
      "text/plain": [
       "<Figure size 720x288 with 3 Axes>"
      ]
     },
     "metadata": {},
     "output_type": "display_data"
    }
   ],
   "source": [
    "# Run function on training data\n",
    "evaluate_model(rf_grid.best_estimator_, X_train, y_train)"
   ]
  },
  {
   "cell_type": "code",
   "execution_count": 53,
   "metadata": {},
   "outputs": [
    {
     "name": "stdout",
     "output_type": "stream",
     "text": [
      "              precision    recall  f1-score   support\n",
      "\n",
      "           0       0.98      0.96      0.97       298\n",
      "           1       0.90      0.96      0.93       116\n",
      "\n",
      "    accuracy                           0.96       414\n",
      "   macro avg       0.94      0.96      0.95       414\n",
      "weighted avg       0.96      0.96      0.96       414\n",
      "\n"
     ]
    },
    {
     "data": {
      "image/png": "[encoded data removed]",
      "text/plain": [
       "<Figure size 720x288 with 3 Axes>"
      ]
     },
     "metadata": {},
     "output_type": "display_data"
    }
   ],
   "source": [
    "#Run Function on test data\n",
    "evaluate_model(rf_grid.best_estimator_, X_test, y_test)"
   ]
  },
  {
   "cell_type": "code",
   "execution_count": 54,
   "metadata": {},
   "outputs": [
    {
     "data": {
      "text/plain": [
       "array(['x0_H', 'x0_S', 'x1_DEM', 'x1_IND', 'x1_OTHER', 'x1_REP',\n",
       "       'x2_CHALLENGER', 'x2_INCUMBENT', 'x2_N/A', 'x2_OPEN'], dtype=object)"
      ]
     },
     "execution_count": 54,
     "metadata": {},
     "output_type": "execute_result"
    }
   ],
   "source": [
    "#feature name extraction\n",
    "preprocess.named_transformers_['cat_cleaning'].named_steps['ohe'].get_feature_names()"
   ]
  },
  {
   "cell_type": "code",
   "execution_count": 55,
   "metadata": {
    "scrolled": true
   },
   "outputs": [
    {
     "data": {
      "text/plain": [
       "['can_off_H',\n",
       " 'can_off_S',\n",
       " 'can_par_aff_DEM',\n",
       " 'can_par_aff_IND',\n",
       " 'can_par_aff_OTHER',\n",
       " 'can_par_aff_REP',\n",
       " 'can_inc_cha_ope_sea_CHALLENGER',\n",
       " 'can_inc_cha_ope_sea_INCUMBENT',\n",
       " 'can_inc_cha_ope_sea_N/A',\n",
       " 'can_inc_cha_ope_sea_OPEN']"
      ]
     },
     "execution_count": 55,
     "metadata": {},
     "output_type": "execute_result"
    }
   ],
   "source": [
    "# Show categorical feature names\n",
    "cat_feat_names = preprocess.named_transformers_['cat_cleaning'].named_steps['ohe'].get_feature_names(cat_cols).tolist()\n",
    "cat_feat_names"
   ]
  },
  {
   "cell_type": "code",
   "execution_count": 56,
   "metadata": {},
   "outputs": [],
   "source": [
    "# Create function to extract categorical and numerical feature names\n",
    "def feat_importance(model, cat_cols, num_cols, label=None):\n",
    "    #Get categorical and numerical names from preprocessing\n",
    "    cat_feat_names = preprocess.named_transformers_['cat_cleaning'].named_steps['ohe'].get_feature_names(cat_cols).tolist()\n",
    "    feat_cols = cat_feat_names + num_cols\n",
    "    feat_importance=pd.Series(model.named_steps[label].feature_importances_, index=feat_cols)\n",
    "    return feat_importance"
   ]
  },
  {
   "cell_type": "code",
   "execution_count": 57,
   "metadata": {
    "scrolled": true
   },
   "outputs": [
    {
     "data": {
      "text/plain": [
       "can_off_H                        0.00\n",
       "can_off_S                        0.00\n",
       "can_par_aff_DEM                  0.00\n",
       "can_par_aff_IND                  0.00\n",
       "can_par_aff_OTHER                0.00\n",
       "can_par_aff_REP                  0.00\n",
       "can_inc_cha_ope_sea_CHALLENGER   0.02\n",
       "can_inc_cha_ope_sea_INCUMBENT    0.18\n",
       "can_inc_cha_ope_sea_N/A          0.00\n",
       "can_inc_cha_ope_sea_OPEN         0.01\n",
       "can_off_dis                      0.00\n",
       "can_zip                          0.00\n",
       "ind_ite_con                      0.01\n",
       "ind_uni_con                      0.01\n",
       "ind_con                          0.02\n",
       "par_com_con                      0.00\n",
       "oth_com_con                      0.16\n",
       "can_con                          0.00\n",
       "tot_con                          0.06\n",
       "tra_fro_oth_aut_com              0.00\n",
       "can_loa                          0.00\n",
       "oth_loa                          0.00\n",
       "tot_loa                          0.01\n",
       "off_to_ope_exp                   0.01\n",
       "oth_rec                          0.00\n",
       "tot_rec                          0.05\n",
       "ope_exp                          0.02\n",
       "tra_to_oth_aut_com               0.00\n",
       "can_loa_rep                      0.00\n",
       "oth_loa_rep                      0.00\n",
       "tot_loa_rep                      0.00\n",
       "ind_ref                          0.01\n",
       "par_com_ref                      0.00\n",
       "oth_com_ref                      0.01\n",
       "tot_con_ref                      0.01\n",
       "oth_dis                          0.04\n",
       "tot_dis                          0.03\n",
       "cas_on_han_beg_of_per            0.09\n",
       "cas_on_han_clo_of_per            0.11\n",
       "net_con                          0.08\n",
       "net_ope_exp                      0.04\n",
       "deb_owe_by_com                   0.00\n",
       "deb_owe_to_com                   0.00\n",
       "dtype: float64"
      ]
     },
     "execution_count": 57,
     "metadata": {},
     "output_type": "execute_result"
    }
   ],
   "source": [
    "# Show feature importance\n",
    "feat_importance(rf_grid.best_estimator_, cat_cols, num_cols, label='rf')"
   ]
  },
  {
   "cell_type": "code",
   "execution_count": 58,
   "metadata": {},
   "outputs": [],
   "source": [
    "# Create a variable for feature importance\n",
    "feat_importances = feat_importance(rf_grid.best_estimator_, cat_cols, num_cols, label='rf')"
   ]
  },
  {
   "cell_type": "code",
   "execution_count": 59,
   "metadata": {},
   "outputs": [
    {
     "data": {
      "text/plain": [
       "can_inc_cha_ope_sea_INCUMBENT   0.18\n",
       "oth_com_con                     0.16\n",
       "cas_on_han_clo_of_per           0.11\n",
       "cas_on_han_beg_of_per           0.09\n",
       "net_con                         0.08\n",
       "tot_con                         0.06\n",
       "tot_rec                         0.05\n",
       "oth_dis                         0.04\n",
       "net_ope_exp                     0.04\n",
       "tot_dis                         0.03\n",
       "dtype: float64"
      ]
     },
     "execution_count": 59,
     "metadata": {},
     "output_type": "execute_result"
    }
   ],
   "source": [
    "# Sort feature importance by weight\n",
    "important_feats = feat_importances.sort_values(ascending=False).head(10)\n",
    "important_feats"
   ]
  },
  {
   "cell_type": "code",
   "execution_count": 60,
   "metadata": {},
   "outputs": [
    {
     "data": {
      "image/png": "[encoded data removed]",
      "text/plain": [
       "<Figure size 432x288 with 1 Axes>"
      ]
     },
     "metadata": {},
     "output_type": "display_data"
    }
   ],
   "source": [
    "# Plot top 10 most important features\n",
    "important_feats.sort_values().plot(kind='barh')\n",
    "plt.title('Feature Importance')\n",
    "plt.xlabel('Mean Decrease in Impurity')\n",
    "plt.ylabel('Features');"
   ]
  },
  {
   "cell_type": "markdown",
   "metadata": {},
   "source": [
    "**XGBoost**"
   ]
  },
  {
   "cell_type": "code",
   "execution_count": 61,
   "metadata": {},
   "outputs": [],
   "source": [
    "# Create pipeline for XGBoost\n",
    "xg_pipe_model = Pipeline(steps=[\n",
    "    ('preprocess', preprocess),\n",
    "    ('xg', XGBClassifier())\n",
    "])"
   ]
  },
  {
   "cell_type": "code",
   "execution_count": 62,
   "metadata": {},
   "outputs": [],
   "source": [
    "# Define gridsearch parameters\n",
    "xg_param_grid = {\n",
    "    'xg__min_child_weight': [1, 5, 10],\n",
    "    'xg__gamma': [0.5, 1, 1.5, 2, 5],\n",
    "    'xg__subsample': [0.6, 0.8, 1.0],\n",
    "    'xg__colsample_bytree': [0.6, 0.8, 1.0],\n",
    "    'xg__max_depth': [3, 4, 5]\n",
    "}"
   ]
  },
  {
   "cell_type": "code",
   "execution_count": 63,
   "metadata": {},
   "outputs": [],
   "source": [
    "# Combine logistic regression pipeline with gridsearch\n",
    "xg_grid = GridSearchCV(xg_pipe_model, xg_param_grid, scoring='f1')"
   ]
  },
  {
   "cell_type": "code",
   "execution_count": null,
   "metadata": {},
   "outputs": [],
   "source": [
    "# Fit pipeline with gridsearch \n",
    "xg_grid.fit(X_train, y_train)"
   ]
  },
  {
   "cell_type": "code",
   "execution_count": null,
   "metadata": {},
   "outputs": [],
   "source": [
    "# Display best parameters\n",
    "xg_grid.best_params_"
   ]
  },
  {
   "cell_type": "code",
   "execution_count": null,
   "metadata": {},
   "outputs": [],
   "source": [
    "# Run function on training data\n",
    "evaluate_model(xg_grid.best_estimator_, X_train, y_train)"
   ]
  },
  {
   "cell_type": "code",
   "execution_count": null,
   "metadata": {},
   "outputs": [],
   "source": [
    "#Run Function on test data\n",
    "evaluate_model(xg_grid.best_estimator_, X_test, y_test)"
   ]
  },
  {
   "cell_type": "markdown",
   "metadata": {},
   "source": [
    "**Fin**"
   ]
  }
 ],
 "metadata": {
  "kernelspec": {
   "display_name": "Python (learn-env)",
   "language": "python",
   "name": "learn-env"
  },
  "language_info": {
   "codemirror_mode": {
    "name": "ipython",
    "version": 3
   },
   "file_extension": ".py",
   "mimetype": "text/x-python",
   "name": "python",
   "nbconvert_exporter": "python",
   "pygments_lexer": "ipython3",
   "version": "3.8.5"
  }
 },
 "nbformat": 4,
 "nbformat_minor": 4
}
